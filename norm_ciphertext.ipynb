{
 "cells": [
  {
   "cell_type": "code",
   "execution_count": 241,
   "id": "310fa9ab",
   "metadata": {},
   "outputs": [],
   "source": [
    "import statistics as stats\n",
    "import matplotlib.pyplot as plt\n",
    "from scipy.optimize import curve_fit\n",
    "import numpy as np"
   ]
  },
  {
   "cell_type": "code",
   "execution_count": 242,
   "id": "64a536f6",
   "metadata": {},
   "outputs": [],
   "source": [
    "the_number_of_d = 16\n",
    "the_number_of_test_case = 10\n",
    "the_number_of_time = 3\n",
    "the_number_of_time_kernel = 5"
   ]
  },
  {
   "cell_type": "code",
   "execution_count": 243,
   "id": "2b6478ca",
   "metadata": {},
   "outputs": [],
   "source": [
    "file1 = open(\"norm.txt\", \"r\")"
   ]
  },
  {
   "cell_type": "code",
   "execution_count": 244,
   "id": "76bc018f",
   "metadata": {},
   "outputs": [],
   "source": [
    "result = []\n",
    "for i in range(0, the_number_of_d):\n",
    "        result.append([])\n",
    "        for j in range(0, the_number_of_time):\n",
    "            result[i].append([])"
   ]
  },
  {
   "cell_type": "code",
   "execution_count": 245,
   "id": "3fd24e9a",
   "metadata": {},
   "outputs": [],
   "source": [
    "count = 0\n",
    "while count < the_number_of_d*the_number_of_test_case*the_number_of_time:\n",
    "    line = file1.readline()\n",
    "    if not line:\n",
    "        break\n",
    "    d = count//(the_number_of_test_case*the_number_of_time)\n",
    "    t = (count%(the_number_of_test_case*the_number_of_time))%the_number_of_time\n",
    "    result[d][t].append(float(line.strip()))\n",
    "    count += 1"
   ]
  },
  {
   "cell_type": "code",
   "execution_count": 246,
   "id": "65b8807a",
   "metadata": {},
   "outputs": [],
   "source": [
    "file1.close()"
   ]
  },
  {
   "cell_type": "code",
   "execution_count": 247,
   "id": "ec8cd684",
   "metadata": {},
   "outputs": [],
   "source": [
    "file2 = open(\"norm_kernel.txt\", \"r\")"
   ]
  },
  {
   "cell_type": "code",
   "execution_count": 248,
   "id": "f11b4ad8",
   "metadata": {},
   "outputs": [],
   "source": [
    "result_kernel = []\n",
    "for i in range(0, the_number_of_d):\n",
    "    result_kernel.append([])\n",
    "    for j in range(0, the_number_of_time_kernel):\n",
    "        result_kernel[i].append([])"
   ]
  },
  {
   "cell_type": "code",
   "execution_count": 249,
   "id": "9155f41d",
   "metadata": {},
   "outputs": [],
   "source": [
    "count = 0\n",
    "while count < the_number_of_d*the_number_of_test_case*the_number_of_time_kernel:\n",
    "    line = file2.readline()\n",
    "    if not line:\n",
    "        break\n",
    "    d = count//(the_number_of_test_case*the_number_of_time_kernel)\n",
    "    t = (count%(the_number_of_test_case*the_number_of_time_kernel))%the_number_of_time_kernel\n",
    "    result_kernel[d][t].append(float(line.strip()))\n",
    "    count += 1 "
   ]
  },
  {
   "cell_type": "code",
   "execution_count": 250,
   "id": "853fd2a7",
   "metadata": {},
   "outputs": [],
   "source": [
    "file2.close()"
   ]
  },
  {
   "cell_type": "code",
   "execution_count": 251,
   "id": "64ebd201",
   "metadata": {
    "scrolled": false
   },
   "outputs": [],
   "source": [
    "mean = []\n",
    "standard_deviation = []\n",
    "for i in range(0, the_number_of_d):\n",
    "    mean.append([])\n",
    "    standard_deviation.append([])"
   ]
  },
  {
   "cell_type": "code",
   "execution_count": 252,
   "id": "38d1295a",
   "metadata": {},
   "outputs": [],
   "source": [
    "for i in range(0, the_number_of_d):\n",
    "    for j in range(0, the_number_of_time):\n",
    "        data = result[i][j]\n",
    "        m = stats.mean(data)\n",
    "        std = stats.stdev(data)\n",
    "        mean[i].append(m)\n",
    "        standard_deviation[i].append(std)"
   ]
  },
  {
   "cell_type": "code",
   "execution_count": 253,
   "id": "7c0b2fa5",
   "metadata": {},
   "outputs": [],
   "source": [
    "mean_kernel = []\n",
    "standard_deviation_kernel = []\n",
    "for i in range(0, the_number_of_d):\n",
    "    mean_kernel.append([])\n",
    "    standard_deviation_kernel.append([])"
   ]
  },
  {
   "cell_type": "code",
   "execution_count": 254,
   "id": "e7b338fc",
   "metadata": {},
   "outputs": [],
   "source": [
    "for i in range(0, the_number_of_d):\n",
    "    for j in range(0, the_number_of_time_kernel):\n",
    "        data = result_kernel[i][j]\n",
    "        m = stats.mean(data)\n",
    "        std = stats.stdev(data)\n",
    "        mean_kernel[i].append(m)\n",
    "        standard_deviation_kernel[i].append(std)"
   ]
  },
  {
   "cell_type": "code",
   "execution_count": 255,
   "id": "3b62df8b",
   "metadata": {},
   "outputs": [],
   "source": [
    "time = []\n",
    "time_kernel = []\n",
    "target = []\n",
    "dimension = []\n",
    "for i in range(0, the_number_of_d):\n",
    "    time.append(mean[i][1])\n",
    "    time_kernel.append(mean_kernel[i][3])\n",
    "    target.append(((mean[i][1] - mean_kernel[i][3])/mean_kernel[i][3])*100)\n",
    "    dimension.append(4*(i+1))"
   ]
  },
  {
   "cell_type": "code",
   "execution_count": 256,
   "id": "e218b139",
   "metadata": {},
   "outputs": [],
   "source": [
    "def func1(x, a, b):\n",
    "    return a*x + b\n",
    "\n",
    "def func2(x, a, b):\n",
    "    return b"
   ]
  },
  {
   "cell_type": "code",
   "execution_count": 257,
   "id": "cdc755ef",
   "metadata": {},
   "outputs": [
    {
     "name": "stderr",
     "output_type": "stream",
     "text": [
      "C:\\Users\\hjw4\\anaconda3\\lib\\site-packages\\scipy\\optimize\\minpack.py:828: OptimizeWarning: Covariance of the parameters could not be estimated\n",
      "  warnings.warn('Covariance of the parameters could not be estimated',\n"
     ]
    }
   ],
   "source": [
    "popt1, pcov1 = curve_fit(func1, dimension, time)\n",
    "popt2, pcov2 = curve_fit(func2, dimension, time_kernel)\n",
    "popt3, pcov3 = curve_fit(func1, dimension, target)"
   ]
  },
  {
   "cell_type": "code",
   "execution_count": 258,
   "id": "05894197",
   "metadata": {},
   "outputs": [
    {
     "data": {
      "image/png": "[encoded data removed]",
      "text/plain": [
       "<Figure size 432x288 with 2 Axes>"
      ]
     },
     "metadata": {
      "needs_background": "light"
     },
     "output_type": "display_data"
    }
   ],
   "source": [
    "plt.subplot(2,1,1)\n",
    "plt.scatter(dimension, time, color = 'red')\n",
    "plt.plot(np.array(dimension), func1(np.array(dimension), popt1[0], popt1[1]))\n",
    "for i in range(0, the_number_of_d):\n",
    "    plt.vlines(dimension[i], time[i] - 2*standard_deviation[i][1], time[i] + 2*standard_deviation[i][1])\n",
    "plt.text(dimension[0], func1(dimension[-2], popt1[0], popt1[1]), 'error bar = +-2*sigma')\n",
    "plt.title('Non-kernel')\n",
    "plt.xlabel('dimension')\n",
    "plt.ylabel('time(s)')\n",
    "\n",
    "plt.subplot(2,1,2)\n",
    "plt.scatter(dimension, time_kernel, color = 'red')\n",
    "plt.hlines(popt2[1], dimension[0], dimension[-1])\n",
    "for i in range(0, the_number_of_d):\n",
    "    plt.vlines(dimension[i], time_kernel[i] - 2*standard_deviation_kernel[i][4], time_kernel[i] + 2*standard_deviation_kernel[i][4])\n",
    "plt.text(dimension[0], popt2[1] + 1, 'error bar = +-2*sigma')\n",
    "plt.title('kernel')\n",
    "plt.xlabel('dimension')\n",
    "plt.ylabel('time(s)')\n",
    "\n",
    "plt.tight_layout()\n",
    "plt.show()"
   ]
  },
  {
   "cell_type": "code",
   "execution_count": 259,
   "id": "e4f63aba",
   "metadata": {},
   "outputs": [
    {
     "data": {
      "image/png": "[encoded data removed]",
      "text/plain": [
       "<Figure size 432x288 with 1 Axes>"
      ]
     },
     "metadata": {
      "needs_background": "light"
     },
     "output_type": "display_data"
    }
   ],
   "source": [
    "plt.scatter(dimension, target, color = 'red')\n",
    "plt.plot(np.array(dimension), func1(np.array(dimension), popt3[0], popt3[1]))\n",
    "plt.title('norm_ciphertext')\n",
    "plt.xlabel('dimension')\n",
    "plt.ylabel('reduction rate(%)')\n",
    "\n",
    "plt.show()"
   ]
  },
  {
   "cell_type": "code",
   "execution_count": 260,
   "id": "35d7721a",
   "metadata": {},
   "outputs": [
    {
     "data": {
      "text/plain": [
       "[[0.023022923441165723, 2.3206402452053334, 0.024780608906517673],\n",
       " [0.12380927419381797, 4.186011525757877, 0.06055769305197967],\n",
       " [0.26196301252369364, 20.01231632445102, 0.31937546676808676],\n",
       " [0.08984568009772213, 2.742015700173874, 0.3321281348131235],\n",
       " [0.1475421787866477, 3.1658313354385164, 0.28704017640586676],\n",
       " [0.11514701472948011, 1.82721752338844, 0.2306576974749475],\n",
       " [0.21948011259944866, 11.839448045036185, 0.27403555852804545],\n",
       " [0.13013388838679443, 1.6449997771023144, 0.31786929438930633],\n",
       " [0.1706988821840638, 3.5757536517184474, 0.22259823963814276],\n",
       " [0.1006149390056522, 2.7613897789176933, 0.19417453912509863],\n",
       " [0.1019432292776502, 2.274191959062973, 0.2501907120689248],\n",
       " [0.22822693298070187, 3.4268347705199402, 0.20940682469245783],\n",
       " [0.07876339939619442, 3.1344760256788575, 0.23335517740845904],\n",
       " [0.08977717446235677, 5.0219317487286625, 0.23765643949243676],\n",
       " [0.1251679960914752, 3.595525560409149, 0.08353137976566383],\n",
       " [0.15586636149100436, 3.5211131273441882, 0.17344853262887852]]"
      ]
     },
     "execution_count": 260,
     "metadata": {},
     "output_type": "execute_result"
    }
   ],
   "source": [
    "standard_deviation"
   ]
  },
  {
   "cell_type": "code",
   "execution_count": null,
   "id": "416fe02c",
   "metadata": {},
   "outputs": [],
   "source": []
  }
 ],
 "metadata": {
  "kernelspec": {
   "display_name": "Python 3",
   "language": "python",
   "name": "python3"
  },
  "language_info": {
   "codemirror_mode": {
    "name": "ipython",
    "version": 3
   },
   "file_extension": ".py",
   "mimetype": "text/x-python",
   "name": "python",
   "nbconvert_exporter": "python",
   "pygments_lexer": "ipython3",
   "version": "3.8.8"
  }
 },
 "nbformat": 4,
 "nbformat_minor": 5
}
